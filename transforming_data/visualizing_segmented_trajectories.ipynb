{
 "cells": [
  {
   "cell_type": "code",
   "execution_count": 2,
   "metadata": {},
   "outputs": [],
   "source": [
    "import numpy as np\n",
    "import matplotlib.pyplot as plt"
   ]
  },
  {
   "cell_type": "code",
   "execution_count": 6,
   "metadata": {},
   "outputs": [],
   "source": [
    "train_tracking_data = np.load(\"compressed_final_data/copulation_segmented_train.npz\")[\"data\"]\n",
    "train_label_data = np.load(\"compressed_final_data/copulation_segmented_train_label.npz\")[\"data\"]\n",
    "test_tracking_data = np.load(\"compressed_final_data/copulation_segmented_test.npz\")[\"data\"]\n",
    "test_label_data = np.load(\"compressed_final_data/copulation_segmented_test_label.npz\")[\"data\"]"
   ]
  },
  {
   "cell_type": "code",
   "execution_count": 7,
   "metadata": {},
   "outputs": [
    {
     "data": {
      "text/plain": [
       "(13303, 100, 4)"
      ]
     },
     "execution_count": 7,
     "metadata": {},
     "output_type": "execute_result"
    }
   ],
   "source": [
    "train_tracking_data.shape"
   ]
  },
  {
   "cell_type": "code",
   "execution_count": 23,
   "metadata": {},
   "outputs": [
    {
     "name": "stdout",
     "output_type": "stream",
     "text": [
      "(100,)\n",
      "(100,)\n",
      "(100,)\n",
      "(100,)\n"
     ]
    }
   ],
   "source": [
    "trajectory_num = 7\n",
    "x_coords_fly_1 = train_tracking_data[trajectory_num, :, 0]\n",
    "y_coords_fly_1 = train_tracking_data[trajectory_num, :, 1]\n",
    "x_coords_fly_2 = train_tracking_data[trajectory_num, :, 2]\n",
    "y_coords_fly_2 = train_tracking_data[trajectory_num, :, 3]\n",
    "print(x_coords_fly_1.shape)\n",
    "print(y_coords_fly_1.shape)\n",
    "print(x_coords_fly_2.shape)\n",
    "print(y_coords_fly_2.shape)"
   ]
  },
  {
   "cell_type": "code",
   "execution_count": 24,
   "metadata": {},
   "outputs": [
    {
     "name": "stdout",
     "output_type": "stream",
     "text": [
      "copulating fly 1: True\n",
      "copulating fly 2: False\n"
     ]
    },
    {
     "data": {
      "text/plain": [
       "[<matplotlib.lines.Line2D at 0x10992f310>]"
      ]
     },
     "execution_count": 24,
     "metadata": {},
     "output_type": "execute_result"
    },
    {
     "data": {
      "image/png": "[encoded data removed]",
      "text/plain": [
       "<Figure size 432x288 with 1 Axes>"
      ]
     },
     "metadata": {
      "needs_background": "light"
     },
     "output_type": "display_data"
    }
   ],
   "source": [
    "print(\"copulating fly 1: \" + str(train_label_data[trajectory_num, 0]))\n",
    "print(\"copulating fly 2: \" + str(train_label_data[trajectory_num, 1]))\n",
    "plt.plot(x_coords_fly_1, y_coords_fly_1)\n",
    "plt.plot(x_coords_fly_2, y_coords_fly_2)"
   ]
  },
  {
   "cell_type": "code",
   "execution_count": null,
   "metadata": {},
   "outputs": [],
   "source": []
  }
 ],
 "metadata": {
  "kernelspec": {
   "display_name": "Python 3",
   "language": "python",
   "name": "python3"
  },
  "language_info": {
   "codemirror_mode": {
    "name": "ipython",
    "version": 3
   },
   "file_extension": ".py",
   "mimetype": "text/x-python",
   "name": "python",
   "nbconvert_exporter": "python",
   "pygments_lexer": "ipython3",
   "version": "3.7.4"
  }
 },
 "nbformat": 4,
 "nbformat_minor": 2
}
